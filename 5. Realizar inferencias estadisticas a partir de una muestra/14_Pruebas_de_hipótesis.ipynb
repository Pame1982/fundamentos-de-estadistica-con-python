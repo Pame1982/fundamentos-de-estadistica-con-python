{
  "nbformat": 4,
  "nbformat_minor": 0,
  "metadata": {
    "colab": {
      "name": "14.Pruebas de hipótesis.ipynb",
      "provenance": [],
      "authorship_tag": "ABX9TyNK9PTWwHlP4k5kxS86nIlN",
      "include_colab_link": true
    },
    "kernelspec": {
      "name": "python3",
      "display_name": "Python 3"
    }
  },
  "cells": [
    {
      "cell_type": "markdown",
      "metadata": {
        "id": "view-in-github",
        "colab_type": "text"
      },
      "source": [
        "<a href=\"https://colab.research.google.com/github/francomanca93/fundamentos-de-estadistica-con-python/blob/inferencias-estadisticas/5.%20Realizar%20inferencias%20estadisticas%20a%20partir%20de%20una%20muestra/14_Pruebas_de_hip%C3%B3tesis.ipynb\" target=\"_parent\"><img src=\"https://colab.research.google.com/assets/colab-badge.svg\" alt=\"Open In Colab\"/></a>"
      ]
    },
    {
      "cell_type": "markdown",
      "metadata": {
        "id": "JU7dfiZHa86y"
      },
      "source": [
        "# Prueba de hipótesis\n",
        "\n",
        "Con los conceptos aprendidos podemos crear juicios de valor sobre las variables aleatorias. Una primera técnica para realizar esto es la **prueba de hipótesis**\n",
        "\n",
        "Una **prueba de hipótesis** es una regla que especifica si se puede aceptar o rechazar una afirmación acerca de un **parámetro poblacional** (lambda, sigma, mu, etc.) dependiendo de la evidencia proporcionada por una muestra de datos (x1, x2, x3, ...,xn)\n",
        "\n",
        "## Pasos y elementos de una prueba de hipótesis\n",
        "\n",
        "1. Identificar el parámetro poblacional por el cual vamos a hacer inferencia (**θ, λ, μ, σ, σ²**, etc)\n",
        "2. Definir dos hipótesis:\n",
        "  \n",
        "  a. Hipótesis nula (siempre de igualdad = )\n",
        "\n",
        " - La hipótesis nula indica que un parámetro de población (tal como la media, la desviación estándar, etc.) es igual a un valor hipotético. La hipótesis nula suele ser una afirmación inicial que se basa en análisis previos o en conocimiento especializado.\n",
        "\n",
        "  b. Hipótesis alterna (mayor que >, menor que <, o diferente que ≠)\n",
        "\n",
        " - La hipótesis alternativa indica que un parámetro de población es más pequeño, más grande o diferente del valor hipotético de la hipótesis nula. La hipótesis alternativa es lo que podríamos pensar que es cierto o esperamos probar que es cierto.\n",
        "\n",
        "\n",
        "3. Identificar el mejor estimador (Promedio muestral o varianza muestral)\n",
        "4. Identificar el estadístico (el que mezcla el estimador y el parámetro poblacional) y la distribución asociada a ese estimador para calcular probabilidades (normal, t-student, chi-cuadrada, F-fisher, etc).\n",
        "5. Debemos asignar el valor estadistico que va a tener la prueba, H0.\n",
        "6. Tolerancia de error que vamos a definir para nuestra prueba de hipótesis. Valor crítico y criterio de rechazo de H0.\n",
        "7. Conclusión de rechazo o no rechazo de H0 con un margen de error de alfa.\n"
      ]
    },
    {
      "cell_type": "markdown",
      "metadata": {
        "id": "Igr-SWuThLHD"
      },
      "source": [
        "# Caso de aplicación\n",
        "\n",
        "La empresa Mustage S.A. está desarrollando una plataforma para otorgar créditos de bajo monto y por ello requiere evaluar el tiempo que le va a tomar a cada uno de sus clientes acceder a la aplicación y solicitar un crédito.\n",
        "\n",
        "El tiempo que tarde el usuario en ingresar a la aplicación y pedir un crédito es una variable importante para medir la experiencia de usuario.\n",
        "\n",
        "El tiempo para completar exitosamente una consulta de información de clientes ante las fuentes de buro **no debe ser superior a 30 segundos** en **promedio**\n",
        "\n",
        "Muestra de **n = 50** clientes consultados.\n",
        "\n",
        "La empresa está dispuesta a asumir un error del 5% en la prueba.\n",
        "\n",
        "**¿El proveedor de información satisface estadísticamente este requerimiento?**"
      ]
    },
    {
      "cell_type": "code",
      "metadata": {
        "id": "e4CkNFHuIbjc"
      },
      "source": [
        "import pandas as pd\n",
        "import numpy as np\n",
        "%matplotlib inline\n",
        "import seaborn as sns\n",
        "from scipy.stats import expon\n",
        "from scipy.stats import uniform"
      ],
      "execution_count": 6,
      "outputs": []
    },
    {
      "cell_type": "code",
      "metadata": {
        "id": "PRsdghu-k05R"
      },
      "source": [
        "# Asumimos que la población es exponencial\n",
        "muestra = [42, 35, 29, 45, 41, 57, 54, 47, 48, 56,\n",
        "           47, 35, 52, 31, 52, 55, 57, 58, 26, 29, \n",
        "           32, 37, 32, 34, 48, 20, 48, 51, 27, 24,\n",
        "           39, 40, 31, 34, 23, 24, 41, 58, 44, 48,\n",
        "           31, 23, 27, 55, 43, 47, 30, 57, 38, 51]"
      ],
      "execution_count": 2,
      "outputs": []
    },
    {
      "cell_type": "code",
      "metadata": {
        "id": "pSI1MT-ElTNl",
        "outputId": "7a70610b-e25f-4059-a17d-b30b82332209",
        "colab": {
          "base_uri": "https://localhost:8080/",
          "height": 34
        }
      },
      "source": [
        "# Tamaño de la muestra\n",
        "len(muestra)"
      ],
      "execution_count": 3,
      "outputs": [
        {
          "output_type": "execute_result",
          "data": {
            "text/plain": [
              "50"
            ]
          },
          "metadata": {
            "tags": []
          },
          "execution_count": 3
        }
      ]
    },
    {
      "cell_type": "code",
      "metadata": {
        "id": "OYlmfRsLlUxc"
      },
      "source": [
        "# Nuestra hipotesis estará basada en la media de nuestra variable exponencial\n",
        "\n",
        "from scipy.stats import expon\n",
        "\n",
        "# Media, varianza, asimetria, kurtosis; scale = 30 que es el valor de la hipotesis H0\n",
        "media, var, skew, kurt = expon.stats(scale = 30, moments = 'mvsk')"
      ],
      "execution_count": 4,
      "outputs": []
    },
    {
      "cell_type": "code",
      "metadata": {
        "id": "kwgwdbfPiopw",
        "outputId": "cc13e8d9-6aaa-47e6-ca9f-b206054dfbee",
        "colab": {
          "base_uri": "https://localhost:8080/",
          "height": 34
        }
      },
      "source": [
        "# Paso 1: Parametro lambda\n",
        "# Paso 2: Generar hipotesis\n",
        "mu = 30\n",
        "mu > 30\n",
        "\n",
        "# Paso 3: Mejor estimador\n",
        "# Elejimos el promedio, porque nuestra distribución es exponencial y por teorema de limite central conoceremos a este valor.\n",
        "\n",
        "# Paso 4: Definimos la distribución de estudio\n",
        "# Nuestra distribución será normal \n",
        "\n",
        "promedio = np.mean(muestra)\n",
        "promedio"
      ],
      "execution_count": 7,
      "outputs": [
        {
          "output_type": "execute_result",
          "data": {
            "text/plain": [
              "40.66"
            ]
          },
          "metadata": {
            "tags": []
          },
          "execution_count": 7
        }
      ]
    },
    {
      "cell_type": "code",
      "metadata": {
        "id": "41XTP3ggj-2L",
        "outputId": "ecde51d2-6443-415b-c168-a950f19d3008",
        "colab": {
          "base_uri": "https://localhost:8080/",
          "height": 34
        }
      },
      "source": [
        "# Paso 5: Calculo del valor del estadistico\n",
        "desv = np.sqrt(var / len(muestra)) # Desviación de la variable original exponencial, dividimos por el temaño de la muestra\n",
        "z = (promedio - mu) / desv\n",
        "z"
      ],
      "execution_count": 12,
      "outputs": [
        {
          "output_type": "execute_result",
          "data": {
            "text/plain": [
              "2.5125860958161983"
            ]
          },
          "metadata": {
            "tags": []
          },
          "execution_count": 12
        }
      ]
    },
    {
      "cell_type": "code",
      "metadata": {
        "id": "DykFq5q6kt3o"
      },
      "source": [
        "# Paso 6: Definir criterio de rechazo y torelancia al error\n",
        "\n",
        "alpha = 0.05\n",
        "\n",
        "# Criterios de rechazo\n",
        "from scipy.stats import norm\n",
        "data_norm = norm.rvs(size = 1000000)"
      ],
      "execution_count": 15,
      "outputs": []
    },
    {
      "cell_type": "code",
      "metadata": {
        "id": "oLXO0XXElpup",
        "outputId": "ad9d4724-5fa4-416f-bb03-effc8a080428",
        "colab": {
          "base_uri": "https://localhost:8080/",
          "height": 353
        }
      },
      "source": [
        "ax = sns.distplot(data_norm, bins = 500, kde = False, color = 'blue')\n",
        "ax.set_title('Distribucion normal')"
      ],
      "execution_count": 17,
      "outputs": [
        {
          "output_type": "stream",
          "text": [
            "/usr/local/lib/python3.6/dist-packages/seaborn/distributions.py:2551: FutureWarning: `distplot` is a deprecated function and will be removed in a future version. Please adapt your code to use either `displot` (a figure-level function with similar flexibility) or `histplot` (an axes-level function for histograms).\n",
            "  warnings.warn(msg, FutureWarning)\n"
          ],
          "name": "stderr"
        },
        {
          "output_type": "execute_result",
          "data": {
            "text/plain": [
              "Text(0.5, 1.0, 'Distribucion normal')"
            ]
          },
          "metadata": {
            "tags": []
          },
          "execution_count": 17
        },
        {
          "output_type": "display_data",
          "data": {
            "image/png": "[encoded data removed]",
            "text/plain": [
              "<Figure size 432x288 with 1 Axes>"
            ]
          },
          "metadata": {
            "tags": [],
            "needs_background": "light"
          }
        }
      ]
    },
    {
      "cell_type": "code",
      "metadata": {
        "id": "JPtlNu35lyRM",
        "outputId": "4e1752e0-a5ed-4f87-cb19-28f6a93608a8",
        "colab": {
          "base_uri": "https://localhost:8080/",
          "height": 34
        }
      },
      "source": [
        "# Visualizar las regiones de aceptación y rechazo\n",
        "# \n",
        "valor_critico = norm.ppf(1-alpha, loc = 0, scale = 1)\n",
        "valor_critico "
      ],
      "execution_count": 19,
      "outputs": [
        {
          "output_type": "execute_result",
          "data": {
            "text/plain": [
              "1.6448536269514722"
            ]
          },
          "metadata": {
            "tags": []
          },
          "execution_count": 19
        }
      ]
    },
    {
      "cell_type": "code",
      "metadata": {
        "id": "G34zhy-dmXA6",
        "outputId": "a93d6017-b6cc-4c46-cab1-542e07a56465",
        "colab": {
          "base_uri": "https://localhost:8080/",
          "height": 353
        }
      },
      "source": [
        "ax = sns.distplot(data_norm, bins = 500, kde = False, color = 'blue')\n",
        "ax.set_title('Distribucion normal')\n",
        "ax.axvline(x = valor_critico, linestyle = '--', label = 'Valor crítico', color='blue')\n",
        "ax.axvline(x = z, linestyle = '--', label = 'Valor del estadistico', color='red')\n",
        "ax.legend()"
      ],
      "execution_count": 23,
      "outputs": [
        {
          "output_type": "stream",
          "text": [
            "/usr/local/lib/python3.6/dist-packages/seaborn/distributions.py:2551: FutureWarning: `distplot` is a deprecated function and will be removed in a future version. Please adapt your code to use either `displot` (a figure-level function with similar flexibility) or `histplot` (an axes-level function for histograms).\n",
            "  warnings.warn(msg, FutureWarning)\n"
          ],
          "name": "stderr"
        },
        {
          "output_type": "execute_result",
          "data": {
            "text/plain": [
              "<matplotlib.legend.Legend at 0x7f1723934748>"
            ]
          },
          "metadata": {
            "tags": []
          },
          "execution_count": 23
        },
        {
          "output_type": "display_data",
          "data": {
            "image/png": "[encoded data removed]",
            "text/plain": [
              "<Figure size 432x288 with 1 Axes>"
            ]
          },
          "metadata": {
            "tags": [],
            "needs_background": "light"
          }
        }
      ]
    },
    {
      "cell_type": "markdown",
      "metadata": {
        "id": "lhxWr0FtpxKy"
      },
      "source": [
        "Del valor critico a la derecha se acumula una probabilidad del 5% de error. Antes de ese valor se acumula una probabilidad del 95% de NO error.\n",
        "\n",
        "La linea roja es el valor Z, valor de nuestro estadistico. Ese es el valor que toma la relacion entre nuestroa parámetro poblacional y la muestra calculada.\n",
        "\n",
        "Todo lo que esta por encima de la linea azul es poco probabe bajo los valores del estimador, los valores poblacionales de la variable aleatoria.\n",
        "\n",
        "Con lo calculado y graficado podemos decir con suficiente prueba estadistica que mu es diferente de 30 e irnos en favor a la hipotesis alterna, donde mu probablemente sea mayor a 30. \n",
        "\n",
        "El caso de la empresa Mustage estaria a favor de que el tiempo que tarda una persona en loggearse y poder acceder a un credito es mayor que los requerimientos que necesitan sobre el proveedor. En otras palabras es muy poco probable que en promedio la empresa pueda cumplir con el criterio pedido."
      ]
    },
    {
      "cell_type": "markdown",
      "metadata": {
        "id": "RWRcLqydnJex"
      },
      "source": [
        "Las pruebas de hipotesis nos permiten evidenciar que tan probable es que nuestro valor poblacion, mu,  tenga un valor dado o superior dada una muestra. \n",
        "\n",
        "En realidad no importa de cual distribución partamos ya que gracias al teorema del limite central todas las distribuciones las podemos caracterizar con la distribución normal. También recordar que este ejemplo es para la Prueba de hipótesis de medias, existen otros tipos de pruebas de hipótesis pero tienen una estructura procedimental similar.\n",
        "\n",
        "![casos_de_pruebas_de_hipotesis](https://imgur.com/ZCKsCwV.png)"
      ]
    }
  ]
}