{
  "nbformat": 4,
  "nbformat_minor": 0,
  "metadata": {
    "colab": {
      "name": "15.Errores estadísticos.ipynb",
      "provenance": [],
      "authorship_tag": "ABX9TyNPk094+TAxJxFyOmLxh6rE",
      "include_colab_link": true
    },
    "kernelspec": {
      "name": "python3",
      "display_name": "Python 3"
    }
  },
  "cells": [
    {
      "cell_type": "markdown",
      "metadata": {
        "id": "view-in-github",
        "colab_type": "text"
      },
      "source": [
        "<a href=\"https://colab.research.google.com/github/francomanca93/fundamentos-de-estadistica-con-python/blob/inferencias-estadisticas/5.%20Realizar%20inferencias%20estadisticas%20a%20partir%20de%20una%20muestra/15_Errores_estad%C3%ADsticos.ipynb\" target=\"_parent\"><img src=\"https://colab.research.google.com/assets/colab-badge.svg\" alt=\"Open In Colab\"/></a>"
      ]
    },
    {
      "cell_type": "markdown",
      "metadata": {
        "id": "F1S_v1LAwm2J"
      },
      "source": [
        "# Errores estadísticos Tipo 1 y Tipo 2\n",
        "\n",
        "Al hacer analisis estadístico existe un grado de error que debemos medir y cuantificar. Para ello veamos diferentes alternativas a la hora de realizar inferencias estadisticas sobre una variable aleatoria.\n",
        "\n",
        "![errores_estadisticos](https://imgur.com/JcMO7Lq.png)\n",
        "\n",
        "![descripcion_del_error](https://imgur.com/fnyG2Xt.png)"
      ]
    },
    {
      "cell_type": "code",
      "metadata": {
        "id": "WVnpAR3HwjZz"
      },
      "source": [
        "import pandas as pd\n",
        "import numpy as np\n",
        "import seaborn as sns"
      ],
      "execution_count": 1,
      "outputs": []
    },
    {
      "cell_type": "code",
      "metadata": {
        "id": "yo7tJQtsx2Lh"
      },
      "source": [
        "# Vamos a trabajar sobre los datos del caso utilizado en Prueba de hipotesis.\n",
        "muestra = [42, 35, 29, 45, 41, 57, 54, 47, 48, 56,\n",
        "           47, 35, 52, 31, 52, 55, 57, 58, 26, 29, \n",
        "           32, 37, 32, 34, 48, 20, 48, 51, 27, 24,\n",
        "           39, 40, 31, 34, 23, 24, 41, 58, 44, 48,\n",
        "           31, 23, 27, 55, 43, 47, 30, 57, 38, 51]"
      ],
      "execution_count": 2,
      "outputs": []
    },
    {
      "cell_type": "code",
      "metadata": {
        "id": "PUYVA3puyGxd"
      },
      "source": [
        "# Hipotesis trabajadas en pruebas de hipotesis\n",
        "# mu = 30\n",
        "# mu > 30\n",
        "\n",
        "# Generamos dos nuevas hipotesis, ambas de igualdad, para ver los errores.\n",
        "mu1 = 37\n",
        "mu2 = 42\n",
        "\n",
        "promedio = np.mean(muestra)\n",
        "promedio\n",
        "\n",
        "# Asumiremos que conocemos la desviación de la muestra\n",
        "desv = 2\n",
        "\n",
        "z_1 = (promedio - mu1) / desv\n",
        "z_2 = (promedio - mu2) / desv\n"
      ],
      "execution_count": 3,
      "outputs": []
    },
    {
      "cell_type": "code",
      "metadata": {
        "id": "VPfiCihyydCk"
      },
      "source": [
        "from scipy.stats import norm\n",
        "data1 = norm.rvs(size = 1000000, loc = mu1, scale = desv)\n",
        "data2 = norm.rvs(size = 1000000, loc = mu2, scale = desv)"
      ],
      "execution_count": 4,
      "outputs": []
    },
    {
      "cell_type": "code",
      "metadata": {
        "id": "ntwMMeo9zLYA",
        "outputId": "f8b45bf9-a396-4359-94f3-252054496383",
        "colab": {
          "base_uri": "https://localhost:8080/",
          "height": 372
        }
      },
      "source": [
        "ax = sns.distplot(data1, bins = 500, kde = True, color = 'blue')\n",
        "ax = sns.distplot(data2, bins = 500, kde = True, color = 'red')\n",
        "ax.axvline(x = promedio, color = 'black', linestyle = '--', label = 'promedio muestral')\n",
        "ax.legend()"
      ],
      "execution_count": 6,
      "outputs": [
        {
          "output_type": "stream",
          "text": [
            "/usr/local/lib/python3.6/dist-packages/seaborn/distributions.py:2551: FutureWarning: `distplot` is a deprecated function and will be removed in a future version. Please adapt your code to use either `displot` (a figure-level function with similar flexibility) or `histplot` (an axes-level function for histograms).\n",
            "  warnings.warn(msg, FutureWarning)\n",
            "/usr/local/lib/python3.6/dist-packages/seaborn/distributions.py:2551: FutureWarning: `distplot` is a deprecated function and will be removed in a future version. Please adapt your code to use either `displot` (a figure-level function with similar flexibility) or `histplot` (an axes-level function for histograms).\n",
            "  warnings.warn(msg, FutureWarning)\n"
          ],
          "name": "stderr"
        },
        {
          "output_type": "execute_result",
          "data": {
            "text/plain": [
              "<matplotlib.lines.Line2D at 0x7fc4acedadd8>"
            ]
          },
          "metadata": {
            "tags": []
          },
          "execution_count": 6
        },
        {
          "output_type": "display_data",
          "data": {
            "image/png": "[encoded data removed]",
            "text/plain": [
              "<Figure size 432x288 with 1 Axes>"
            ]
          },
          "metadata": {
            "tags": [],
            "needs_background": "light"
          }
        }
      ]
    },
    {
      "cell_type": "markdown",
      "metadata": {
        "id": "nM2XgCBIzDH3"
      },
      "source": [
        "Error tipo I: Rechazar H0 cuando en realidad era cierta.\n",
        "Error top II: No rechazar H0 cuando en realidad es falsa.\n",
        "\n",
        "Tipor de error en [Testing de Hipotesis](https://towardsdatascience.com/hypothesis-testing-in-machine-learning-using-python-a0dc89e169ce)\n",
        "\n",
        "Type I error: When we reject the null hypothesis, although that hypothesis was true. Type I error is denoted by alpha. In hypothesis testing, the normal curve that shows the critical region is called the alpha region\n",
        "\n",
        "Type II errors: When we accept the null hypothesis but it is false. Type II errors are denoted by beta. In Hypothesis testing, the normal curve that shows the acceptance region is called the beta region.\n"
      ]
    },
    {
      "cell_type": "code",
      "metadata": {
        "id": "CP3X6NPox4wR",
        "outputId": "bf881952-476e-4497-d3e2-6a8929946812",
        "colab": {
          "base_uri": "https://localhost:8080/",
          "height": 34
        }
      },
      "source": [
        "# Error tipo 1 o alfa. Probabilidad de rechazar H0 cuando esta es verdadera\n",
        "prob_prom_mu1 = norm.cdf(z_1)\n",
        "(1 - prob_prom_mu1)*100 # en %"
      ],
      "execution_count": 8,
      "outputs": [
        {
          "output_type": "execute_result",
          "data": {
            "text/plain": [
              "3.3624969419628448"
            ]
          },
          "metadata": {
            "tags": []
          },
          "execution_count": 8
        }
      ]
    },
    {
      "cell_type": "code",
      "metadata": {
        "id": "m7nWtoOkycp_",
        "outputId": "ac3bf513-1bbf-4d1f-a482-ea82cd5963e9",
        "colab": {
          "base_uri": "https://localhost:8080/",
          "height": 34
        }
      },
      "source": [
        "# Error tipo 2 o beta. Probabilidad de no rechazar H0 cuando esta es falsa\n",
        "prob_prom_mu2 = norm.cdf(z_2)\n",
        "(prob_prom_mu2)*100 # en %"
      ],
      "execution_count": 11,
      "outputs": [
        {
          "output_type": "execute_result",
          "data": {
            "text/plain": [
              "25.142889509530953"
            ]
          },
          "metadata": {
            "tags": []
          },
          "execution_count": 11
        }
      ]
    }
  ]
}